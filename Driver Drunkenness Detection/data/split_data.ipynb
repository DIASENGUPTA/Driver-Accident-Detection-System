{
 "cells": [
  {
   "cell_type": "code",
   "execution_count": 36,
   "metadata": {
    "ExecuteTime": {
     "end_time": "2020-03-12T01:33:29.975018Z",
     "start_time": "2020-03-12T01:33:29.971225Z"
    }
   },
   "outputs": [],
   "source": [
    "# Split the data in train, validation, and test\n",
    "# Run this script while inside data folder\n",
    "import os\n",
    "import glob\n",
    "import random\n",
    "import math\n",
    "import sh\n",
    "import shutil"
   ]
  },
  {
   "cell_type": "code",
   "execution_count": 37,
   "metadata": {
    "ExecuteTime": {
     "end_time": "2020-03-12T01:33:30.761720Z",
     "start_time": "2020-03-12T01:33:30.757509Z"
    }
   },
   "outputs": [],
   "source": [
    "# How data is split\n",
    "TRAIN_WEIGHT = 0.65\n",
    "VALIDATION_WEIGHT = 0.15\n",
    "TEST_WEIGHT = 0.2\n",
    "\n",
    "# Where original data is\n",
    "HOME = os.getcwd()\n",
    "\n",
    "# Where split data will be saved\n",
    "DIR_NAME = 'split_data'"
   ]
  },
  {
   "cell_type": "code",
   "execution_count": 38,
   "metadata": {
    "ExecuteTime": {
     "end_time": "2020-03-12T01:33:31.839058Z",
     "start_time": "2020-03-12T01:33:31.833532Z"
    }
   },
   "outputs": [],
   "source": [
    "# Gather and randomize subjects\n",
    "subjects = []\n",
    "for person_dir in glob.glob('*'):\n",
    "    if os.path.isdir(person_dir):\n",
    "        subjects.append(person_dir)\n",
    "        \n",
    "random.shuffle(subjects)"
   ]
  },
  {
   "cell_type": "code",
   "execution_count": 39,
   "metadata": {
    "ExecuteTime": {
     "end_time": "2020-03-12T01:33:32.855192Z",
     "start_time": "2020-03-12T01:33:32.850119Z"
    }
   },
   "outputs": [],
   "source": [
    "# Split subjects\n",
    "sz = len(subjects)\n",
    "train = subjects[0:math.floor(TRAIN_WEIGHT*sz)]\n",
    "validation = subjects[math.floor(TRAIN_WEIGHT*sz):math.floor((TRAIN_WEIGHT+VALIDATION_WEIGHT)*sz)]\n",
    "test = subjects[math.floor((TRAIN_WEIGHT+VALIDATION_WEIGHT)*sz):]"
   ]
  },
  {
   "cell_type": "code",
   "execution_count": 40,
   "metadata": {
    "ExecuteTime": {
     "end_time": "2020-03-12T01:33:34.834714Z",
     "start_time": "2020-03-12T01:33:34.830790Z"
    }
   },
   "outputs": [],
   "source": [
    "# Ensure there are no overlaps\n",
    "x = train + validation + test\n",
    "x = set(x)\n",
    "\n",
    "assert(len(x) == len(subjects))"
   ]
  },
  {
   "cell_type": "code",
   "execution_count": 43,
   "metadata": {
    "ExecuteTime": {
     "end_time": "2020-03-12T01:37:01.286985Z",
     "start_time": "2020-03-12T01:36:59.372800Z"
    }
   },
   "outputs": [],
   "source": [
    "# Create train, validation, and test folders\n",
    "os.chdir('..')\n",
    "if os.path.exists(DIR_NAME):\n",
    "    shutil.rmtree(DIR_NAME)\n",
    "os.mkdir(DIR_NAME)\n",
    "os.chdir(DIR_NAME)\n",
    "\n",
    "# Use soft link to original data to save space\n",
    "ln = sh.Command('ln')\n",
    "\n",
    "# Populate train folder\n",
    "os.mkdir('train')\n",
    "os.chdir('train')\n",
    "for subject in train:\n",
    "    folder_path = f'{HOME}/{subject}'\n",
    "    ln('-sfv', folder_path, subject)\n",
    "os.chdir('..')\n",
    "\n",
    "# Populate validation folder\n",
    "os.mkdir('validation')\n",
    "os.chdir('validation')\n",
    "for subject in validation:\n",
    "    folder_path = f'{HOME}/{subject}'\n",
    "    ln('-sfv', folder_path, subject)\n",
    "os.chdir('..')\n",
    "\n",
    "# Populate test folder\n",
    "os.mkdir('test')\n",
    "os.chdir('test')\n",
    "for subject in test:\n",
    "    folder_path = f'{HOME}/{subject}'\n",
    "    ln('-sfv', folder_path, subject)\n",
    "os.chdir('..')\n",
    "\n",
    "\n"
   ]
  }
 ],
 "metadata": {
  "kernelspec": {
   "display_name": "Python 3",
   "language": "python",
   "name": "python3"
  },
  "language_info": {
   "codemirror_mode": {
    "name": "ipython",
    "version": 3
   },
   "file_extension": ".py",
   "mimetype": "text/x-python",
   "name": "python",
   "nbconvert_exporter": "python",
   "pygments_lexer": "ipython3",
   "version": "3.6.12"
  },
  "varInspector": {
   "cols": {
    "lenName": 16,
    "lenType": 16,
    "lenVar": 40
   },
   "kernels_config": {
    "python": {
     "delete_cmd_postfix": "",
     "delete_cmd_prefix": "del ",
     "library": "var_list.py",
     "varRefreshCmd": "print(var_dic_list())"
    },
    "r": {
     "delete_cmd_postfix": ") ",
     "delete_cmd_prefix": "rm(",
     "library": "var_list.r",
     "varRefreshCmd": "cat(var_dic_list()) "
    }
   },
   "oldHeight": 122,
   "position": {
    "height": "144px",
    "left": "-176px",
    "right": "20px",
    "top": "93px",
    "width": "350px"
   },
   "types_to_exclude": [
    "module",
    "function",
    "builtin_function_or_method",
    "instance",
    "_Feature"
   ],
   "varInspector_section_display": "block",
   "window_display": true
  }
 },
 "nbformat": 4,
 "nbformat_minor": 4
}
